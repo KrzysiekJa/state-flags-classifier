{
 "cells": [
  {
   "cell_type": "code",
   "execution_count": null,
   "id": "6835313b-5bc7-4be7-9e82-a379f569f141",
   "metadata": {},
   "outputs": [],
   "source": [
    "import warnings\n",
    "warnings.filterwarnings(\"ignore\")"
   ]
  },
  {
   "cell_type": "code",
   "execution_count": 1,
   "id": "f934340b-e2f0-4e3f-9a2f-219e9f0d56d3",
   "metadata": {},
   "outputs": [
    {
     "name": "stderr",
     "output_type": "stream",
     "text": [
      "2024-05-20 22:27:57.242761: I external/local_tsl/tsl/cuda/cudart_stub.cc:32] Could not find cuda drivers on your machine, GPU will not be used.\n",
      "2024-05-20 22:27:57.248340: I external/local_tsl/tsl/cuda/cudart_stub.cc:32] Could not find cuda drivers on your machine, GPU will not be used.\n",
      "2024-05-20 22:27:57.312602: I tensorflow/core/platform/cpu_feature_guard.cc:210] This TensorFlow binary is optimized to use available CPU instructions in performance-critical operations.\n",
      "To enable the following instructions: AVX2 FMA, in other operations, rebuild TensorFlow with the appropriate compiler flags.\n",
      "2024-05-20 22:27:58.697240: W tensorflow/compiler/tf2tensorrt/utils/py_utils.cc:38] TF-TRT Warning: Could not find TensorRT\n"
     ]
    }
   ],
   "source": [
    "import os\n",
    "import scipy\n",
    "import tensorflow as tf\n",
    "from tensorflow.keras.preprocessing.image import ImageDataGenerator, img_to_array, load_img, array_to_img"
   ]
  },
  {
   "cell_type": "code",
   "execution_count": 2,
   "id": "8216b9e2-8f30-462d-bb9e-9677e67fbc7d",
   "metadata": {},
   "outputs": [],
   "source": [
    "def augment_images(directories, datagen, num_augmented_images=5) -> None:\n",
    "    for country in os.listdir(directories['input_dir']):\n",
    "        country_input_path = os.path.join(directories['input_dir'], country)\n",
    "        country_output_path = os.path.join(directories['output_dir'], country)\n",
    "        os.makedirs(country_output_path, exist_ok=True)\n",
    "\n",
    "        for image_name in os.listdir(country_input_path):\n",
    "            img_path = os.path.join(country_input_path, image_name)\n",
    "            img = load_img(img_path)\n",
    "            x = img_to_array(img)\n",
    "            x = x.reshape((1,) + x.shape)\n",
    "            # to size: (1, width, height, channels)\n",
    "            \n",
    "            i = 0\n",
    "            for batch in datagen.flow(x, batch_size=1, save_to_dir=country_output_path, save_prefix='aug', save_format='jpg'):\n",
    "                i += 1\n",
    "                if i >= num_augmented_images:\n",
    "                    break"
   ]
  },
  {
   "cell_type": "code",
   "execution_count": 3,
   "id": "b748154f-467d-4ad3-ad6f-43268400851a",
   "metadata": {},
   "outputs": [],
   "source": [
    "# obj for augmentation:\n",
    "datagen = ImageDataGenerator(\n",
    "    rotation_range=90.0,\n",
    "    width_shift_range=0.2,\n",
    "    height_shift_range=0.2,\n",
    "    shear_range=0.4,\n",
    "    zoom_range=0.5,\n",
    "    channel_shift_range=90.0,\n",
    "    horizontal_flip=True,\n",
    "    fill_mode='nearest'\n",
    ")"
   ]
  },
  {
   "cell_type": "code",
   "execution_count": 4,
   "id": "e5cfe5da-b282-490c-9e1f-bfd1877828ba",
   "metadata": {},
   "outputs": [],
   "source": [
    "dir_dict = {\n",
    "    'input_dir': 'data/country_flag',\n",
    "    'output_dir': 'data/augmented_flags'\n",
    "}\n",
    "os.makedirs(dir_dict['output_dir'], exist_ok=True)"
   ]
  },
  {
   "cell_type": "code",
   "execution_count": 5,
   "id": "db326bfd-08c7-435b-8231-07840d0e8d59",
   "metadata": {},
   "outputs": [
    {
     "name": "stdout",
     "output_type": "stream",
     "text": [
      "Augmentation completed.\n"
     ]
    }
   ],
   "source": [
    "augment_images(dir_dict, datagen, num_augmented_images=200)\n",
    "print(\"Augmentation completed.\")"
   ]
  },
  {
   "cell_type": "code",
   "execution_count": null,
   "id": "2ec8d422-49db-4705-8369-f5eb7a4e05e3",
   "metadata": {},
   "outputs": [],
   "source": []
  },
  {
   "cell_type": "code",
   "execution_count": null,
   "id": "5dfa6d46-5e9e-4685-b845-05bb1bda7499",
   "metadata": {},
   "outputs": [],
   "source": []
  },
  {
   "cell_type": "code",
   "execution_count": null,
   "id": "52973dfc-5cbf-429c-a630-f7ce2dc00d64",
   "metadata": {},
   "outputs": [],
   "source": []
  },
  {
   "cell_type": "code",
   "execution_count": null,
   "id": "b060af3d-7cd6-4297-9f5e-53c9d70c6a08",
   "metadata": {},
   "outputs": [],
   "source": []
  },
  {
   "cell_type": "code",
   "execution_count": null,
   "id": "c5620d3e-fa81-4c67-955b-61e709c056a2",
   "metadata": {},
   "outputs": [],
   "source": []
  },
  {
   "cell_type": "code",
   "execution_count": null,
   "id": "152edd1d-bf89-4c5c-92b6-4c75ca6384b5",
   "metadata": {},
   "outputs": [],
   "source": []
  },
  {
   "cell_type": "code",
   "execution_count": null,
   "id": "3ed6c744-5a22-41f7-8c77-a14c590f27d9",
   "metadata": {},
   "outputs": [],
   "source": []
  },
  {
   "cell_type": "code",
   "execution_count": null,
   "id": "2fabc132-db11-43b2-8c98-c5feeac79a41",
   "metadata": {},
   "outputs": [],
   "source": []
  },
  {
   "cell_type": "code",
   "execution_count": null,
   "id": "fdc38dcc-0a29-45b3-87d3-2f58e46a51c9",
   "metadata": {},
   "outputs": [],
   "source": []
  },
  {
   "cell_type": "code",
   "execution_count": null,
   "id": "f097761d-fbd6-493f-9f38-4da3de21f5cd",
   "metadata": {},
   "outputs": [],
   "source": []
  },
  {
   "cell_type": "code",
   "execution_count": null,
   "id": "160dcfd4-2222-4e20-975b-ca80f3d644f8",
   "metadata": {},
   "outputs": [],
   "source": []
  },
  {
   "cell_type": "code",
   "execution_count": null,
   "id": "a8683ec7-4a2f-4132-b3ad-16ef230f515a",
   "metadata": {},
   "outputs": [],
   "source": []
  }
 ],
 "metadata": {
  "kernelspec": {
   "display_name": "Python 3 (ipykernel)",
   "language": "python",
   "name": "python3"
  },
  "language_info": {
   "codemirror_mode": {
    "name": "ipython",
    "version": 3
   },
   "file_extension": ".py",
   "mimetype": "text/x-python",
   "name": "python",
   "nbconvert_exporter": "python",
   "pygments_lexer": "ipython3",
   "version": "3.11.9"
  }
 },
 "nbformat": 4,
 "nbformat_minor": 5
}
